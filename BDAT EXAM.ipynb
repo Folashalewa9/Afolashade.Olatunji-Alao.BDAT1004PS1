{
 "cells": [
  {
   "cell_type": "code",
   "execution_count": 19,
   "id": "b1af209d",
   "metadata": {},
   "outputs": [
    {
     "ename": "TypeError",
     "evalue": "Point() takes no arguments",
     "output_type": "error",
     "traceback": [
      "\u001b[1;31m---------------------------------------------------------------------------\u001b[0m",
      "\u001b[1;31mTypeError\u001b[0m                                 Traceback (most recent call last)",
      "Cell \u001b[1;32mIn[19], line 19\u001b[0m\n\u001b[0;32m     15\u001b[0m         \u001b[38;5;28;01mreturn\u001b[39;00m math\u001b[38;5;241m.\u001b[39msqrt((\u001b[38;5;28mself\u001b[39m\u001b[38;5;241m.\u001b[39mx \u001b[38;5;241m-\u001b[39m other_point\u001b[38;5;241m.\u001b[39mx)\u001b[38;5;241m*\u001b[39m\u001b[38;5;241m*\u001b[39m\u001b[38;5;241m2\u001b[39m \u001b[38;5;241m+\u001b[39m (\u001b[38;5;28mself\u001b[39m\u001b[38;5;241m.\u001b[39my\u001b[38;5;241m-\u001b[39mother_points\u001b[38;5;241m.\u001b[39my)\u001b[38;5;241m*\u001b[39m\u001b[38;5;241m*\u001b[39m\u001b[38;5;241m2\u001b[39m)\n\u001b[0;32m     18\u001b[0m \u001b[38;5;66;03m#constructing a point\u001b[39;00m\n\u001b[1;32m---> 19\u001b[0m p1 \u001b[38;5;241m=\u001b[39m Point(\u001b[38;5;241m3\u001b[39m, \u001b[38;5;241m4\u001b[39m)\n\u001b[0;32m     20\u001b[0m \u001b[38;5;28mprint\u001b[39m(p1\u001b[38;5;241m.\u001b[39mx, p1\u001b[38;5;241m.\u001b[39my)\n\u001b[0;32m     21\u001b[0m p1\u001b[38;5;241m.\u001b[39mreset()\n",
      "\u001b[1;31mTypeError\u001b[0m: Point() takes no arguments"
     ]
    }
   ],
   "source": [
    "import math\n",
    "\n",
    "class Point(): \n",
    "    def _init_(self , x =0, y=0):\n",
    "        self.initialize(x,y)\n",
    "        \n",
    "    def initialize(self, x, y):\n",
    "        self.x = x\n",
    "        self.y = y\n",
    "\n",
    "    def reset(self):\n",
    "        self.initialize(0,0)\n",
    "        \n",
    "    def calculate_dist(self, other_points):\n",
    "        return math.sqrt((self.x - other_point.x)**2 + (self.y-other_points.y)**2)\n",
    "    \n",
    "    \n",
    "#constructing a point\n",
    "p1 = Point(3, 4)\n",
    "print(p1.x, p1.y)\n",
    "p1.reset()\n",
    "print(p1.x, p1.y)"
   ]
  },
  {
   "cell_type": "code",
   "execution_count": null,
   "id": "3b0d8c50",
   "metadata": {},
   "outputs": [],
   "source": []
  }
 ],
 "metadata": {
  "kernelspec": {
   "display_name": "Python 3 (ipykernel)",
   "language": "python",
   "name": "python3"
  },
  "language_info": {
   "codemirror_mode": {
    "name": "ipython",
    "version": 3
   },
   "file_extension": ".py",
   "mimetype": "text/x-python",
   "name": "python",
   "nbconvert_exporter": "python",
   "pygments_lexer": "ipython3",
   "version": "3.11.5"
  }
 },
 "nbformat": 4,
 "nbformat_minor": 5
}
