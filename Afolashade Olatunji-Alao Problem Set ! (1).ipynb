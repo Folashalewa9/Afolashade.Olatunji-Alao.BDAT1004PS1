{
 "cells": [
  {
   "cell_type": "markdown",
   "id": "d0f943d7",
   "metadata": {},
   "source": [
    "## Question 1\n",
    "What data type is each of the following(evaluate where necessary) 5 5.0 5 > 1 '5' 5 * 2 '5' * 2 '5' + '2' 5 / 2 5 % 2 {5, 2, 1} is a set 5 == 3 Pi (the number)\n"
   ]
  },
  {
   "cell_type": "code",
   "execution_count": 7,
   "id": "3961acab",
   "metadata": {},
   "outputs": [
    {
     "name": "stdout",
     "output_type": "stream",
     "text": [
      "<class 'int'>\n",
      "5\n",
      "<class 'float'>\n",
      "<class 'bool'>\n",
      "True\n",
      "<class 'str'>\n",
      "<class 'int'>\n",
      "10\n",
      "<class 'str'>\n",
      "55\n",
      "<class 'str'>\n",
      "52\n",
      "<class 'float'>\n",
      "2.5\n",
      "<class 'int'>\n",
      "1\n",
      "<class 'set'>\n",
      "{1, 2, 5}\n",
      "<class 'bool'>\n",
      "False\n",
      "Pi (the number) is a float type\n"
     ]
    }
   ],
   "source": [
    "## Evaluates the data types#\n",
    "data_1 = 5\n",
    "print(type(data_1))\n",
    "print(data_1)\n",
    "\n",
    "data_2 = 5.0\n",
    "print(type(data_2))\n",
    "\n",
    "data_3 = 5>1\n",
    "print(type(data_3))\n",
    "print(data_3)\n",
    "\n",
    "data_4 ='5'\n",
    "print(type(data_4))\n",
    "\n",
    "data_5 = 5 * 2\n",
    "print(type(data_5))\n",
    "print(data_5)\n",
    "\n",
    "data_6 = '5' * 2\n",
    "print(type(data_6))\n",
    "print(data_6)\n",
    "\n",
    "data_7 ='5' + '2'\n",
    "print(type(data_7))\n",
    "print(data_7)\n",
    "\n",
    "data_8 = 5 / 2\n",
    "print(type(data_8))\n",
    "print(data_8)\n",
    "\n",
    "data_9 = 5 % 2\n",
    "print(type(data_9))\n",
    "print(data_9)\n",
    "\n",
    "data_10 = {5, 2, 1}\n",
    "print(type(data_10))\n",
    "print(data_10)\n",
    "\n",
    "data_11 = 5 == 3\n",
    "print(type(data_11))\n",
    "print(data_11)\n",
    "\n",
    " #Pi (the number) is a float type\n",
    "print(\"Pi (the number) is a float type\")\n"
   ]
  },
  {
   "cell_type": "markdown",
   "id": "7aec7bb1",
   "metadata": {},
   "source": [
    "# Question 2\n",
    "a. How many letters are there in 'Supercalifragilisticexpialidocious'? b. Does'Supercalifragilisticexpialidocious' contain 'ice' as a substring? c. Which of the following words is the longest: Supercalifragilisticexpialidocious, Honorificabilitudinitatibus, or Bababadalgharaghtakamminarronnkonn? d. Which composer comes first in the dictionary: 'Berlioz', 'Borodin', 'Brian', 'Bartok', 'Bellini', 'Buxtehude', 'Bernstein'. Which one comes last?"
   ]
  },
  {
   "cell_type": "code",
   "execution_count": 2,
   "id": "68c376a3",
   "metadata": {},
   "outputs": [
    {
     "name": "stdout",
     "output_type": "stream",
     "text": [
      "34\n",
      "True\n",
      "supercalifragilisticexpialidocious\n",
      "Bellini\n",
      "Buxtehude\n"
     ]
    }
   ],
   "source": [
    "#How many letters are there in 'Supercalifragilisticexpialidocious'#\n",
    "\n",
    "word = 'Supercalifragilisticexpialidocious'\n",
    "print(len(word))\n",
    "\n",
    "#Does 'Supercalifragilisticexpialidocious' contain 'ice' as a substring\n",
    "word = 'Supercalifragilisticexpialidocious'\n",
    "substring = 'ice'\n",
    "print(\"ice\" in word)\n",
    "\n",
    "#Which of the following words is the longest: Supercalifragilisticexpialidocious, Honorificabilitudinitatibus, or\n",
    "#Bababadalgharaghtakamminarronnkonn?#\n",
    "words = [\"supercalifragilisticexpialidocious\" , \"honorificabilitudinitatibus\", \"bababadalgharaghtakamminarronnkonn\"]\n",
    "word_longest = max(words, key = len)\n",
    "print(word_longest)\n",
    "\n",
    "# Which composer comes first in the dictionary: 'Berlioz', 'Borodin', 'Brian',\n",
    "#'Bartok', 'Bellini', 'Buxtehude', 'Bernstein'. Which one comes last?\n",
    "\n",
    "#which composer comes first?#\n",
    "composers = ['Berlioz', 'Borodin', 'Brian', 'Borodin' 'Bartok', 'Bellini', 'Buxtehude', 'Bernstein']\n",
    "first_composer = min(composers)\n",
    "print(first_composer)\n",
    "\n",
    "#which composer comes last#\n",
    "composers = ['Berlioz', 'Borodin', 'Brian', 'Borodin' 'Bartok', 'Bellini', 'Buxtehude', 'Bernstein']\n",
    "last_composer = max(composers)\n",
    "print(last_composer)"
   ]
  },
  {
   "cell_type": "markdown",
   "id": "598aaf7a",
   "metadata": {},
   "source": [
    "# Question 3\n",
    "Implement function triangleArea(a,b,c) that takes as input the lengths of the 3\n",
    "sides of a triangle and returns the area of the triangle. By Heron's formula, the area \n",
    "of a triangle with side lengths a, b, and c is\n",
    "s(s - a)(s -b)(s -c)\n",
    ", where \n",
    "s = (a+b+c)/2. \n",
    ">>> triangleArea(2,2,2)\n",
    "1.7320508075688772"
   ]
  },
  {
   "cell_type": "code",
   "execution_count": 3,
   "id": "b03758a4",
   "metadata": {},
   "outputs": [
    {
     "name": "stdout",
     "output_type": "stream",
     "text": [
      "1.7320508075688772\n"
     ]
    }
   ],
   "source": [
    "import math\n",
    "\n",
    "def triangleArea(a, b, c):\n",
    "    #find the semi-perimeter\n",
    "    s = (a +b + c) / 2\n",
    "    \n",
    "    #using heron's formular, calculate the area\n",
    "    area = math.sqrt(s * (s-a) * (s-b) *(s-c))\n",
    "    \n",
    "    return area\n",
    "area = triangleArea(2, 2, 2)\n",
    "print(area)\n",
    "    "
   ]
  },
  {
   "cell_type": "markdown",
   "id": "7fc99b80",
   "metadata": {},
   "source": [
    "# Question 4\n",
    "Write a program in python to separate odd and even integers in separate arrays. Go \n",
    "to the editor\n",
    "Test Data :\n",
    "Input the number of elements to be stored in the array :5\n",
    "Input 5 elements in the array :\n",
    "element - 0 : 25\n",
    "element - 1 : 47\n",
    "element - 2 : 42\n",
    "element - 3 : 56\n",
    "element - 4 : 32\n",
    "Expected Output:\n",
    "The Even elements are:\n",
    "42 56 32\n",
    "The Odd elements are :\n",
    "25 47"
   ]
  },
  {
   "cell_type": "code",
   "execution_count": 6,
   "id": "75dd65da",
   "metadata": {},
   "outputs": [
    {
     "name": "stdout",
     "output_type": "stream",
     "text": [
      "Even lists: [42, 56, 32]\n",
      "Odd lists: [25, 47]\n"
     ]
    }
   ],
   "source": [
    "##separate the odd and even integers//\n",
    "\n",
    "def Split(mix):\n",
    "    even_li = []\n",
    "    odd_li = []\n",
    "    for i in mix:\n",
    "        if (i % 2 == 0):\n",
    "            even_li.append(i)\n",
    "        else:\n",
    "            odd_li.append(i)\n",
    "    print(\"Even lists:\", even_li)\n",
    "    print(\"Odd lists:\", odd_li)\n",
    " \n",
    " \n",
    "mix = [25,47,42,56,32]\n",
    "Split(mix)"
   ]
  },
  {
   "cell_type": "markdown",
   "id": "a027a808",
   "metadata": {},
   "source": [
    "# Question5\n",
    "a. Write a function inside(x,y,x1,y1,x2,y2) that returns True or False \n",
    "depending on whether the point (x,y) lies in the rectangle with lower left \n",
    "corner (x1,y1) and upper right corner (x2,y2).\n",
    ">>> inside(1,1,0,0,2,3)\n",
    "True\n",
    ">>> inside(-1,-1,0,0,2,3)\n",
    "False\n",
    "b. Use function inside() from part a. to write an expression that tests whether \n",
    "the point (1,1) lies in both of the following rectangles: one with lower left \n",
    "corner (0.3, 0.5) and upper right corner (1.1, 0.7) and the other with lower \n",
    "left corner (0.5, 0.2) and upper right corner (1.1, 2)."
   ]
  },
  {
   "cell_type": "code",
   "execution_count": 8,
   "id": "6a5dce97",
   "metadata": {},
   "outputs": [
    {
     "name": "stdout",
     "output_type": "stream",
     "text": [
      "Enter x: 1\n",
      "Enter y: 1\n",
      "Enter x1: 0.5\n",
      "Enter y1: 0.2\n",
      "Enter x2: 1.1\n",
      "Enter y2: 2\n",
      "True\n"
     ]
    }
   ],
   "source": [
    "# Prompt the user for the inputs for x,y x1,y1 & x2,y2 respectively \n",
    "x = float(input(\"Enter x: \"))\n",
    "y = float(input(\"Enter y: \"))\n",
    "x1 = float(input(\"Enter x1: \"))\n",
    "y1 = float(input(\"Enter y1: \"))\n",
    "x2 = float(input(\"Enter x2: \"))\n",
    "y2 = float(input(\"Enter y2: \"))\n",
    "\n",
    "#for True\n",
    "if (x1 == x2 or y1 == y2):\n",
    "    print()\n",
    "\n",
    "else:\n",
    "    #for false\n",
    "    result = (x > x1 and x < x2 and y > y1 and y < y2)\n",
    "    print(result)"
   ]
  },
  {
   "cell_type": "markdown",
   "id": "300797b9",
   "metadata": {},
   "source": [
    "# Question 6\n",
    "You can turn a word into pig-Latin using the following two rules (simplified):\n",
    "• If the word starts with a consonant, move that letter to the end and append \n",
    "'ay'. For example, 'happy' becomes 'appyhay' and 'pencil' becomes 'encilpay'.\n",
    "• If the word starts with a vowel, simply append 'way' to the end of the word. \n",
    "For example, 'enter' becomes 'enterway' and 'other' becomes 'otherway' . For \n",
    "our purposes, there are 5 vowels: a, e, i, o, u (so we count y as a consonant).\n",
    "Write a function pig() that takes a word (i.e., a string) as input and returns its pig\u0002Latin form. Your function should still work if the input word contains upper case \n",
    "characters. Your output should always be lower case however. \n",
    ">>> pig('happy')\n",
    "'appyhay'\n",
    ">>> pig('Enter')\n",
    "'enterway'"
   ]
  },
  {
   "cell_type": "code",
   "execution_count": 13,
   "id": "bf0f6cd7",
   "metadata": {},
   "outputs": [],
   "source": [
    "#define a function pig & create a list for the vowels\n",
    "\n",
    "def pig(str): \n",
    "    vowelsMix=['a','e','u','i','o','A','E','I','U','O'] \n",
    "    if str[0] in vowelsMix: \n",
    "        return str.lower()+'way' \n",
    "    else: \n",
    "        return str[1:].lower()+str[0].lower()+'ay'"
   ]
  },
  {
   "cell_type": "code",
   "execution_count": 14,
   "id": "e3316470",
   "metadata": {},
   "outputs": [
    {
     "data": {
      "text/plain": [
       "'appyhay'"
      ]
     },
     "execution_count": 14,
     "metadata": {},
     "output_type": "execute_result"
    }
   ],
   "source": [
    "pig('happy')"
   ]
  },
  {
   "cell_type": "code",
   "execution_count": 16,
   "id": "e403c653",
   "metadata": {},
   "outputs": [
    {
     "data": {
      "text/plain": [
       "'enterway'"
      ]
     },
     "execution_count": 16,
     "metadata": {},
     "output_type": "execute_result"
    }
   ],
   "source": [
    "pig('Enter')"
   ]
  },
  {
   "cell_type": "markdown",
   "id": "8b161dd6",
   "metadata": {},
   "source": [
    "# Question 7\n",
    "File bloodtype1.txt records blood-types of patients (A, B, AB, O or OO) at a clinic. \n",
    "Write a function bldcount() that reads the file with name name and reports (i.e., \n",
    "prints) how many patients there are in each bloodtype.\n",
    ">>> bldcount('bloodtype.txt')\n",
    "There are 10 patients of blood type A.\n",
    "There is one patient of blood type B.\n",
    "There are 10 patients of blood type AB.\n",
    "There are 12 patients of blood type O.\n",
    "There are no patients of blood type OO.\n"
   ]
  },
  {
   "cell_type": "code",
   "execution_count": 19,
   "id": "ddb63750",
   "metadata": {},
   "outputs": [],
   "source": [
    "#define a function bldcount & read the file from directory\n",
    "def bldcount(filename):\n",
    "    \n",
    "    i = open(filename,'r')\n",
    "    words = i.readline()\n",
    "    totl = []\n",
    "    bloodTypes = [\"AB\", \"AB\", \"B\", \"O\", \"A\", \"A\", \"AB\", \"O\", \"AB\", \"A\", \"O\", \"O\", \"A\", \"A\", \"A\", \"O\", \"O\", \"O\", \"AB\", \"O\", \"A\", \"A\",\"A\", \"A\", \"A\", \"AB\", \"AB\", \"A\", \"AB\", \"O\", \"AB\", \"O\", \"A\", \"O\",\"O\", \"O\",  \"AB\", \"O\", \"AB\", \"AB\", \"AB\", \"A\",\"A\", \"O\" ]\n",
    "    \n",
    "    #Split the files\n",
    "    totl.append(words.split(\" \"))\n",
    "    \n",
    "    #check the count for output\n",
    "    for bloodType in bloodTypes:\n",
    "        print(\"There are {} patients of blood type {}.\".format(totl[0].count(bloodType),bloodType))"
   ]
  },
  {
   "cell_type": "code",
   "execution_count": 20,
   "id": "e3b7e3e5",
   "metadata": {},
   "outputs": [
    {
     "name": "stdout",
     "output_type": "stream",
     "text": [
      "There are 13 patients of blood type AB.\n",
      "There are 13 patients of blood type AB.\n",
      "There are 1 patients of blood type B.\n",
      "There are 15 patients of blood type O.\n",
      "There are 15 patients of blood type A.\n",
      "There are 15 patients of blood type A.\n",
      "There are 13 patients of blood type AB.\n",
      "There are 15 patients of blood type O.\n",
      "There are 13 patients of blood type AB.\n",
      "There are 15 patients of blood type A.\n",
      "There are 15 patients of blood type O.\n",
      "There are 15 patients of blood type O.\n",
      "There are 15 patients of blood type A.\n",
      "There are 15 patients of blood type A.\n",
      "There are 15 patients of blood type A.\n",
      "There are 15 patients of blood type O.\n",
      "There are 15 patients of blood type O.\n",
      "There are 15 patients of blood type O.\n",
      "There are 13 patients of blood type AB.\n",
      "There are 15 patients of blood type O.\n",
      "There are 15 patients of blood type A.\n",
      "There are 15 patients of blood type A.\n",
      "There are 15 patients of blood type A.\n",
      "There are 15 patients of blood type A.\n",
      "There are 15 patients of blood type A.\n",
      "There are 13 patients of blood type AB.\n",
      "There are 13 patients of blood type AB.\n",
      "There are 15 patients of blood type A.\n",
      "There are 13 patients of blood type AB.\n",
      "There are 15 patients of blood type O.\n",
      "There are 13 patients of blood type AB.\n",
      "There are 15 patients of blood type O.\n",
      "There are 15 patients of blood type A.\n",
      "There are 15 patients of blood type O.\n",
      "There are 15 patients of blood type O.\n",
      "There are 15 patients of blood type O.\n",
      "There are 13 patients of blood type AB.\n",
      "There are 15 patients of blood type O.\n",
      "There are 13 patients of blood type AB.\n",
      "There are 13 patients of blood type AB.\n",
      "There are 13 patients of blood type AB.\n",
      "There are 15 patients of blood type A.\n",
      "There are 15 patients of blood type A.\n",
      "There are 15 patients of blood type O.\n"
     ]
    }
   ],
   "source": [
    "bldcount('bloodtype1.txt')"
   ]
  },
  {
   "cell_type": "markdown",
   "id": "3234cb34",
   "metadata": {},
   "source": [
    "# Question 8\n",
    "Write a function curconv() that takes as input:\n",
    "1. a currency represented using a string (e.g., 'JPY' for the Japanese Yen or \n",
    "'EUR' for the Euro)\n",
    "2. an amount\n",
    "and then converts and returns the amount in US dollars.\n",
    ">>> curconv('EUR', 100)\n",
    "122.96544\n",
    ">>> curconv('JPY', 100)\n",
    "1.241401\n",
    "The currency rates you will need are stored in file currencies.txt:\n",
    "AUD 1.0345157 Australian Dollar\n",
    "CHF 1.0237414 Swiss Franc\n",
    "CNY 0.1550176 Chinese Yuan\n",
    "DKK 0.1651442 Danish Krone\n",
    "EUR 1.2296544 Euro\n",
    "GBP 1.5550989 British Pound\n",
    "HKD 0.1270207 Hong Kong Dollar\n",
    "INR 0.0177643 Indian Rupee\n",
    "JPY 0.01241401 Japanese Yen\n",
    "MXN 0.0751848 Mexican Peso\n",
    "MYR 0.3145411 Malaysian Ringgit\n",
    "NOK 0.1677063 Norwegian Krone\n",
    "NZD 0.8003591 New Zealand Dollar\n",
    "PHP 0.0233234 Philippine Peso\n",
    "SEK 0.148269 Swedish Krona\n",
    "SGD 0.788871 Singapore Dollar\n",
    "THB 0.0313789 Thai Baht\n"
   ]
  },
  {
   "cell_type": "code",
   "execution_count": 21,
   "id": "0a6e116e",
   "metadata": {},
   "outputs": [],
   "source": [
    "#define a function for the currency converter\n",
    "def curconv(currency,amount):\n",
    "    currencies = {}\n",
    "    \n",
    "    #open currencies.txt file\n",
    "    curr_file = open('currencies.txt')\n",
    "    lines = curr_file.readlines()\n",
    "    \n",
    "    for i in lines:\n",
    "        currencies[i[:3].strip()] = i[4:].split(\"\\t\")\n",
    "    value = currencies[currency][0].strip()\n",
    "    print(amount * float(value))"
   ]
  },
  {
   "cell_type": "code",
   "execution_count": 22,
   "id": "53af8015",
   "metadata": {},
   "outputs": [
    {
     "name": "stdout",
     "output_type": "stream",
     "text": [
      "122.96544\n"
     ]
    }
   ],
   "source": [
    "curconv('EUR', 100)"
   ]
  },
  {
   "cell_type": "code",
   "execution_count": 23,
   "id": "d7fa8e1f",
   "metadata": {},
   "outputs": [
    {
     "name": "stdout",
     "output_type": "stream",
     "text": [
      "1.241401\n"
     ]
    }
   ],
   "source": [
    "curconv('JPY', 100)"
   ]
  },
  {
   "cell_type": "markdown",
   "id": "dbe51d81",
   "metadata": {},
   "source": [
    "# Question 9\n",
    "Each of the following will cause an exception (an error). Identify what type of \n",
    "exception each will cause.\n",
    "Trying to add incompatible variables, as in \n",
    "adding 6 + ‘a’\n",
    "Referring to the 12th item of a list that has only 10 \n",
    "items\n",
    "Using a value that is out of range for a function’s \n",
    "input, such as calling math.sqrt(-1.0)\n",
    "Using an undeclared variable, such as print(x)\n",
    "when x has not been defined \n",
    "Trying to open a file that does not exist, such as \n",
    "mistyping the file name or looking in the wrong \n",
    "directory. "
   ]
  },
  {
   "cell_type": "code",
   "execution_count": 30,
   "id": "32f56328",
   "metadata": {},
   "outputs": [
    {
     "name": "stdout",
     "output_type": "stream",
     "text": [
      "unsupported operand type(s) for +: 'int' and 'str'\n"
     ]
    }
   ],
   "source": [
    "try:\n",
    "    print(6 + 'a')\n",
    "except Exception as error:\n",
    "    print(error)"
   ]
  },
  {
   "cell_type": "code",
   "execution_count": 31,
   "id": "9e6c9ee3",
   "metadata": {},
   "outputs": [
    {
     "name": "stdout",
     "output_type": "stream",
     "text": [
      "list index out of range\n"
     ]
    }
   ],
   "source": [
    "try:\n",
    "    items = [0, 1, 2, 3, 4, 5, 6, 7, 8, 9]\n",
    "    print(items[12])\n",
    "except Exception as error:\n",
    "    print(error)"
   ]
  },
  {
   "cell_type": "code",
   "execution_count": 50,
   "id": "5057f6c0",
   "metadata": {},
   "outputs": [
    {
     "name": "stdout",
     "output_type": "stream",
     "text": [
      "name 'X' is not defined\n"
     ]
    }
   ],
   "source": [
    "try:\n",
    "    print(X)\n",
    "except Exception as error:\n",
    "    print(error)"
   ]
  },
  {
   "cell_type": "code",
   "execution_count": 32,
   "id": "2b6578e8",
   "metadata": {},
   "outputs": [
    {
     "name": "stdout",
     "output_type": "stream",
     "text": [
      "math domain error\n"
     ]
    }
   ],
   "source": [
    "import math\n",
    "try:\n",
    "    print(math.sqrt(-1.0))\n",
    "except Exception as error:\n",
    "    print(error)"
   ]
  },
  {
   "cell_type": "code",
   "execution_count": 48,
   "id": "488c436f",
   "metadata": {},
   "outputs": [
    {
     "name": "stdout",
     "output_type": "stream",
     "text": [
      "[Errno 2] No such file or directory: 'bloodtype2.txt'\n"
     ]
    }
   ],
   "source": [
    "try:\n",
    "    blood = open(\"bloodtype2.txt\")\n",
    "    blood.close()\n",
    "except Exception as error:\n",
    "    print(error)"
   ]
  },
  {
   "cell_type": "markdown",
   "id": "011dfe77",
   "metadata": {},
   "source": [
    "# Question 10\n",
    "Encryption is the process of hiding the meaning of a text by substituting letters in the \n",
    "message with other letters, according to some system. If the process is successful, no \n",
    "one but the intended recipient can understand the encrypted message. Cryptanalysis\n",
    "refers to attempts to undo the encryption, even if some details of the encryption are \n",
    "unknown (for example, if an encrypted message has been intercepted). The first step \n",
    "of cryptanalysis is often to build up a table of letter frequencies in the encrypted text. \n",
    "Assume that the string letters is already defined as \n",
    "'abcdefghijklmnopqrstuvwxyz'. Write a function called frequencies()\n",
    "that takes a string as its only parameter, and returns a list of integers, showing the \n",
    "number of times each character appears in the text. Your function may ignore any \n",
    "characters that are not in letters. \n",
    ">>> frequencies('The quick red fox got bored and went home.')\n",
    "[1, 1, 1, 3, 5, 1, 1, 2, 1, 0, 1, 0, 1, 2, 4, 0, 1, 2, 0, 2, \n",
    "1, 0, 1, 1, 0, 0]\n",
    ">>> frequencies('apple')"
   ]
  },
  {
   "cell_type": "code",
   "execution_count": 24,
   "id": "6f697247",
   "metadata": {},
   "outputs": [],
   "source": [
    "#define function for frequencies and create a tuple for the alphabets\n",
    "def frequencies(text):\n",
    "    \n",
    "    #Write out the alphabets \n",
    "    alphabets = ('a','b','c','d','e','f','g','h','i','j','k','l','m','n','o','p','q','r','s','t','u','v','w','x','y','z')\n",
    "    total_char = []\n",
    "    alphabet_dict = {}\n",
    "  \n",
    "    #Check & pick characters from the word inputted\n",
    "    for word in text:\n",
    "        for char in word:\n",
    "            if char.isalpha():\n",
    "                total_char.append(char)\n",
    "                \n",
    "    #Check if alphabet is present in the alphabet characters, else rep with 0\n",
    "    for char in alphabets:\n",
    "        if char in total_char:\n",
    "            alphabet_dict[char] = total_char.count(char)\n",
    "        else:\n",
    "            alphabet_dict[char] = 0\n",
    "     #Print the values       \n",
    "    print(list(alphabet_dict.values()))"
   ]
  },
  {
   "cell_type": "code",
   "execution_count": 25,
   "id": "eee63160",
   "metadata": {},
   "outputs": [
    {
     "name": "stdout",
     "output_type": "stream",
     "text": [
      "[1, 1, 1, 3, 5, 1, 1, 2, 1, 0, 1, 0, 1, 2, 4, 0, 1, 2, 0, 2, 1, 0, 1, 1, 0, 0]\n"
     ]
    }
   ],
   "source": [
    "frequencies('The quick red fox got bored and went home.')"
   ]
  },
  {
   "cell_type": "code",
   "execution_count": 26,
   "id": "b99a1ffe",
   "metadata": {},
   "outputs": [
    {
     "name": "stdout",
     "output_type": "stream",
     "text": [
      "[1, 0, 0, 0, 1, 0, 0, 0, 0, 0, 0, 1, 0, 0, 0, 2, 0, 0, 0, 0, 0, 0, 0, 0, 0, 0]\n"
     ]
    }
   ],
   "source": [
    "frequencies('apple')"
   ]
  }
 ],
 "metadata": {
  "kernelspec": {
   "display_name": "Python 3 (ipykernel)",
   "language": "python",
   "name": "python3"
  },
  "language_info": {
   "codemirror_mode": {
    "name": "ipython",
    "version": 3
   },
   "file_extension": ".py",
   "mimetype": "text/x-python",
   "name": "python",
   "nbconvert_exporter": "python",
   "pygments_lexer": "ipython3",
   "version": "3.11.5"
  }
 },
 "nbformat": 4,
 "nbformat_minor": 5
}
